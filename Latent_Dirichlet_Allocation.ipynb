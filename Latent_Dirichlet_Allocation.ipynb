{
 "cells": [
  {
   "cell_type": "markdown",
   "id": "e7f1abf1",
   "metadata": {},
   "source": [
    "# LDA (Latent Dirichlet Allocation)"
   ]
  },
  {
   "cell_type": "markdown",
   "id": "c1b2a3b8",
   "metadata": {},
   "source": [
    "1. LDA를 수행할 때 사용자가 해야 할 일: 문서 집합에서 토픽이 몇 개가 존재할지 가정하기   \n",
    "2. 하이퍼파라미터: 모델의 성능에 영향을 주는 사용자가 직접 선택하는 매개변수   \n",
    "3. 하이퍼파라미터의 선택은 여러 실험을 통해 얻은 값일 수도 있고, 우선 시도해보는 값일 수도 있다   \n",
    "4. 각 문서의 토픽 분포와 각 토픽 내의 단어 분포 추정"
   ]
  },
  {
   "cell_type": "markdown",
   "id": "a445ab48",
   "metadata": {},
   "source": [
    "## LDA의 가정"
   ]
  },
  {
   "cell_type": "markdown",
   "id": "4144acc0",
   "metadata": {},
   "source": [
    "1) 문서에 사용할 단어의 개수 N 정하기   \n",
    "2) 문서에 사용할 토픽의 혼합을 확률 분포에 기반하여 결정   \n",
    "3) 문서에 사용할 각 단어 정하기    \n",
    "    (토픽 분포에서 토픽 T를 확률적으로 고르기 --> 선택한 토픽 T에서 단어의 출현 확률 분포에 기반해 문서에 사용할 단어 고르기)   \n",
    "이러한 과정을 통해 문서가 작성되었다는 가정 하에 LDA는 토픽을 뽑아내기 위하여 위 과정을 역으로 추적하는 역공학(reverse engneering) 수행"
   ]
  },
  {
   "cell_type": "markdown",
   "id": "8f043d14",
   "metadata": {},
   "source": [
    "## LDA 수행 과정"
   ]
  },
  {
   "cell_type": "markdown",
   "id": "a1a08881",
   "metadata": {},
   "source": [
    "1) 사용자는 알고리즘에게 토픽의 개수 k 알려주기   \n",
    "2) 모든 단어를 k개 중 하나의 토픽에 할당   \n",
    "3) 모든 문서의 모든 단어에 대해서 아래의 사항을 반복 진행   \n",
    "어떤 문서의 각 단어 w는 자신은 잘못된 토픽에 할당되어져 있지만, 다른 단어들은 전부 올바른 토픽에 할당되어져 있는 상태라고 가정,   \n",
    "이에 따라 단어 w는 아래의 두 가지 기준에 따라서 토픽 재할당   \n",
    "- p(topic t | document d) : 문서 d의 단어들 중 토픽 t에 해당하는 단어들의 비율   \n",
    "- p(word w | topic t) : 각 토픽들 t에서 해당 단어 w의 분포"
   ]
  },
  {
   "cell_type": "markdown",
   "id": "eacb313f",
   "metadata": {},
   "source": [
    "## 잠재 디리클레 할당과 잠재 의미 분석의 차이"
   ]
  },
  {
   "cell_type": "markdown",
   "id": "cbfbf1cb",
   "metadata": {},
   "source": [
    "1. LSA : DTM을 차원 축소 하여 축소 차원에서 근접 단어들을 토픽으로 묶음\n",
    "2. LDA : 단어가 특정 토픽에 존재할 확률과 문서에 특정 토픽이 존재할 확률을 결합확률로 추정하여 토픽 추출"
   ]
  },
  {
   "cell_type": "markdown",
   "id": "eab6728f",
   "metadata": {},
   "source": [
    "## 실습"
   ]
  },
  {
   "cell_type": "markdown",
   "id": "a3dc46d3",
   "metadata": {},
   "source": [
    "데이터 출처: https://github.com/ukairia777/tensorflow-nlp-tutorial/tree/main/19.%20Topic%20Modeling%20(LDA%2C%20BERT-Based)/dataset/abcnews-date-text.csv"
   ]
  },
  {
   "cell_type": "markdown",
   "id": "0abde060",
   "metadata": {},
   "source": [
    "### 1. 정수 인코딩과 단어 집합 만들기"
   ]
  },
  {
   "cell_type": "code",
   "execution_count": 1,
   "id": "db2bc6b5",
   "metadata": {},
   "outputs": [],
   "source": [
    "import pandas as pd\n",
    "import urllib.request\n",
    "import nltk\n",
    "import os\n",
    "from nltk.corpus import stopwords\n",
    "from nltk.stem import WordNetLemmatizer\n",
    "from sklearn.feature_extraction.text import TfidfVectorizer\n",
    "from sklearn.decomposition import LatentDirichletAllocation"
   ]
  },
  {
   "cell_type": "code",
   "execution_count": 2,
   "id": "19f27204",
   "metadata": {},
   "outputs": [],
   "source": [
    "data_dir = os.chdir(os.getcwd() + \"/data\")"
   ]
  },
  {
   "cell_type": "code",
   "execution_count": 3,
   "id": "0e59af39",
   "metadata": {},
   "outputs": [
    {
     "name": "stderr",
     "output_type": "stream",
     "text": [
      "C:\\ProgramData\\Anaconda3\\lib\\site-packages\\IPython\\core\\interactiveshell.py:3457: FutureWarning: The error_bad_lines argument has been deprecated and will be removed in a future version.\n",
      "\n",
      "\n",
      "  exec(code_obj, self.user_global_ns, self.user_ns)\n"
     ]
    },
    {
     "data": {
      "text/html": [
       "<div>\n",
       "<style scoped>\n",
       "    .dataframe tbody tr th:only-of-type {\n",
       "        vertical-align: middle;\n",
       "    }\n",
       "\n",
       "    .dataframe tbody tr th {\n",
       "        vertical-align: top;\n",
       "    }\n",
       "\n",
       "    .dataframe thead th {\n",
       "        text-align: right;\n",
       "    }\n",
       "</style>\n",
       "<table border=\"1\" class=\"dataframe\">\n",
       "  <thead>\n",
       "    <tr style=\"text-align: right;\">\n",
       "      <th></th>\n",
       "      <th>publish_date</th>\n",
       "      <th>headline_text</th>\n",
       "    </tr>\n",
       "  </thead>\n",
       "  <tbody>\n",
       "    <tr>\n",
       "      <th>0</th>\n",
       "      <td>20030219</td>\n",
       "      <td>aba decides against community broadcasting lic...</td>\n",
       "    </tr>\n",
       "    <tr>\n",
       "      <th>1</th>\n",
       "      <td>20030219</td>\n",
       "      <td>act fire witnesses must be aware of defamation</td>\n",
       "    </tr>\n",
       "    <tr>\n",
       "      <th>2</th>\n",
       "      <td>20030219</td>\n",
       "      <td>a g calls for infrastructure protection summit</td>\n",
       "    </tr>\n",
       "    <tr>\n",
       "      <th>3</th>\n",
       "      <td>20030219</td>\n",
       "      <td>air nz staff in aust strike for pay rise</td>\n",
       "    </tr>\n",
       "    <tr>\n",
       "      <th>4</th>\n",
       "      <td>20030219</td>\n",
       "      <td>air nz strike to affect australian travellers</td>\n",
       "    </tr>\n",
       "  </tbody>\n",
       "</table>\n",
       "</div>"
      ],
      "text/plain": [
       "   publish_date                                      headline_text\n",
       "0      20030219  aba decides against community broadcasting lic...\n",
       "1      20030219     act fire witnesses must be aware of defamation\n",
       "2      20030219     a g calls for infrastructure protection summit\n",
       "3      20030219           air nz staff in aust strike for pay rise\n",
       "4      20030219      air nz strike to affect australian travellers"
      ]
     },
     "execution_count": 3,
     "metadata": {},
     "output_type": "execute_result"
    }
   ],
   "source": [
    "data = pd.read_csv('abcnews-date-text.csv', error_bad_lines=False)\n",
    "data[:5]"
   ]
  },
  {
   "cell_type": "code",
   "execution_count": 4,
   "id": "a9715e23",
   "metadata": {},
   "outputs": [
    {
     "name": "stdout",
     "output_type": "stream",
     "text": [
      "뉴스 제목 개수 : 1082168\n"
     ]
    }
   ],
   "source": [
    "print('뉴스 제목 개수 :',len(data))"
   ]
  },
  {
   "cell_type": "code",
   "execution_count": 5,
   "id": "b6077a82",
   "metadata": {},
   "outputs": [
    {
     "data": {
      "text/html": [
       "<div>\n",
       "<style scoped>\n",
       "    .dataframe tbody tr th:only-of-type {\n",
       "        vertical-align: middle;\n",
       "    }\n",
       "\n",
       "    .dataframe tbody tr th {\n",
       "        vertical-align: top;\n",
       "    }\n",
       "\n",
       "    .dataframe thead th {\n",
       "        text-align: right;\n",
       "    }\n",
       "</style>\n",
       "<table border=\"1\" class=\"dataframe\">\n",
       "  <thead>\n",
       "    <tr style=\"text-align: right;\">\n",
       "      <th></th>\n",
       "      <th>headline_text</th>\n",
       "    </tr>\n",
       "  </thead>\n",
       "  <tbody>\n",
       "    <tr>\n",
       "      <th>0</th>\n",
       "      <td>aba decides against community broadcasting lic...</td>\n",
       "    </tr>\n",
       "    <tr>\n",
       "      <th>1</th>\n",
       "      <td>act fire witnesses must be aware of defamation</td>\n",
       "    </tr>\n",
       "    <tr>\n",
       "      <th>2</th>\n",
       "      <td>a g calls for infrastructure protection summit</td>\n",
       "    </tr>\n",
       "    <tr>\n",
       "      <th>3</th>\n",
       "      <td>air nz staff in aust strike for pay rise</td>\n",
       "    </tr>\n",
       "    <tr>\n",
       "      <th>4</th>\n",
       "      <td>air nz strike to affect australian travellers</td>\n",
       "    </tr>\n",
       "  </tbody>\n",
       "</table>\n",
       "</div>"
      ],
      "text/plain": [
       "                                       headline_text\n",
       "0  aba decides against community broadcasting lic...\n",
       "1     act fire witnesses must be aware of defamation\n",
       "2     a g calls for infrastructure protection summit\n",
       "3           air nz staff in aust strike for pay rise\n",
       "4      air nz strike to affect australian travellers"
      ]
     },
     "execution_count": 5,
     "metadata": {},
     "output_type": "execute_result"
    }
   ],
   "source": [
    "text = data[['headline_text']]\n",
    "text.head(5)"
   ]
  },
  {
   "cell_type": "markdown",
   "id": "407045b3",
   "metadata": {},
   "source": [
    "### 2. 텍스트 전처리: 불용어 제거, 표제어 추출, 길이가 짧은 단어 제거"
   ]
  },
  {
   "cell_type": "code",
   "execution_count": null,
   "id": "5f412bd0",
   "metadata": {},
   "outputs": [],
   "source": [
    "text['headline_text'] = text.apply(lambda row: nltk.word_tokenize(row['headline_text']), axis=1)"
   ]
  },
  {
   "cell_type": "code",
   "execution_count": null,
   "id": "40597680",
   "metadata": {},
   "outputs": [],
   "source": [
    "print(text.head(5))"
   ]
  },
  {
   "cell_type": "code",
   "execution_count": null,
   "id": "cff0ba67",
   "metadata": {},
   "outputs": [],
   "source": [
    "stop_words = stopwords.words('english')\n",
    "text['headline_text'] = text['headline_text'].apply(lambda x: [word for word in x if word not in (stop_words)])"
   ]
  },
  {
   "cell_type": "code",
   "execution_count": null,
   "id": "5d6b56ab",
   "metadata": {},
   "outputs": [],
   "source": [
    "print(text.head(5))"
   ]
  },
  {
   "cell_type": "code",
   "execution_count": null,
   "id": "9607d704",
   "metadata": {},
   "outputs": [],
   "source": [
    "text['headline_text'] = text['headline_text'].apply(lambda x: [WordNetLemmatizer().lemmatize(word, pos='v') for word in x])\n",
    "print(text.head(5))"
   ]
  },
  {
   "cell_type": "code",
   "execution_count": null,
   "id": "55c98ffd",
   "metadata": {},
   "outputs": [],
   "source": [
    "tokenized_doc = text['headline_text'].apply(lambda x: [word for word in x if len(word) > 3])\n",
    "print(tokenized_doc[:5])"
   ]
  },
  {
   "cell_type": "code",
   "execution_count": null,
   "id": "37439f29",
   "metadata": {},
   "outputs": [],
   "source": []
  }
 ],
 "metadata": {
  "kernelspec": {
   "display_name": "Python 3 (ipykernel)",
   "language": "python",
   "name": "python3"
  },
  "language_info": {
   "codemirror_mode": {
    "name": "ipython",
    "version": 3
   },
   "file_extension": ".py",
   "mimetype": "text/x-python",
   "name": "python",
   "nbconvert_exporter": "python",
   "pygments_lexer": "ipython3",
   "version": "3.7.13"
  }
 },
 "nbformat": 4,
 "nbformat_minor": 5
}
