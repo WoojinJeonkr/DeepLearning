{
 "cells": [
  {
   "cell_type": "markdown",
   "id": "ef4b5b7b",
   "metadata": {},
   "source": [
    "# 영어에서 프랑스어로 번역하기"
   ]
  },
  {
   "cell_type": "markdown",
   "id": "70dc4f57",
   "metadata": {},
   "source": [
    "## 방법 1. Googletrans 사용하기"
   ]
  },
  {
   "cell_type": "code",
   "execution_count": 1,
   "id": "3be03945",
   "metadata": {},
   "outputs": [],
   "source": [
    "# !pip install googletrans==4.0.0-rc1"
   ]
  },
  {
   "cell_type": "code",
   "execution_count": 2,
   "id": "1d108eac",
   "metadata": {},
   "outputs": [],
   "source": [
    "from googletrans import Translator"
   ]
  },
  {
   "cell_type": "code",
   "execution_count": 3,
   "id": "f0664036",
   "metadata": {},
   "outputs": [],
   "source": [
    "translator = Translator()"
   ]
  },
  {
   "cell_type": "code",
   "execution_count": 4,
   "id": "4c688777",
   "metadata": {},
   "outputs": [],
   "source": [
    "sentence_en = \"it was a mistake.\""
   ]
  },
  {
   "cell_type": "code",
   "execution_count": 5,
   "id": "e846808b",
   "metadata": {},
   "outputs": [],
   "source": [
    "sentence_fra = translator.translate(sentence_en, dest='fr')"
   ]
  },
  {
   "cell_type": "code",
   "execution_count": 6,
   "id": "f965a36b",
   "metadata": {},
   "outputs": [
    {
     "name": "stdout",
     "output_type": "stream",
     "text": [
      "번역 전 영어 문장: it was a mistake.\n",
      "번역 후 프랑스어 문장: c'était une erreur.\n"
     ]
    }
   ],
   "source": [
    "print('번역 전 영어 문장: {}'.format(sentence_en))\n",
    "print('번역 후 프랑스어 문장: {}'.format(sentence_fra.text))"
   ]
  },
  {
   "cell_type": "markdown",
   "id": "78210921",
   "metadata": {},
   "source": [
    "## 방법 2. seq2seq를 이용하여 번역기 생성하기"
   ]
  },
  {
   "cell_type": "markdown",
   "id": "d0e7b7de",
   "metadata": {},
   "source": [
    "### 01. 데이터 로드 및 전처리"
   ]
  },
  {
   "cell_type": "markdown",
   "id": "3d58153c",
   "metadata": {},
   "source": [
    "#### 사용할 라이브러리 추가"
   ]
  },
  {
   "cell_type": "code",
   "execution_count": 7,
   "id": "30a19709",
   "metadata": {},
   "outputs": [],
   "source": [
    "import os\n",
    "import re\n",
    "import shutil\n",
    "import zipfile\n",
    "\n",
    "import numpy as np\n",
    "import pandas as pd\n",
    "import tensorflow as tf\n",
    "import unicodedata\n",
    "import urllib3\n",
    "from tensorflow.keras.layers import Embedding, GRU, Dense\n",
    "from tensorflow.keras.preprocessing.sequence import pad_sequences\n",
    "from tensorflow.keras.preprocessing.text import Tokenizer"
   ]
  },
  {
   "cell_type": "markdown",
   "id": "071c7af3",
   "metadata": {},
   "source": [
    "#### 압축 파일 다운로드 후 압축 풀기"
   ]
  },
  {
   "cell_type": "code",
   "execution_count": 8,
   "id": "e4d89451",
   "metadata": {},
   "outputs": [],
   "source": [
    "http = urllib3.PoolManager()\n",
    "url = 'http://www.manythings.org/anki/fra-eng.zip'\n",
    "filename = 'fra-eng.zip'\n",
    "path = os.getcwd() + \"/data\"\n",
    "zipfilename = os.path.join(path, filename)\n",
    "with http.request('GET', url, preload_content=False) as r, open(zipfilename, 'wb') as out_file:\n",
    "    shutil.copyfileobj(r, out_file)\n",
    "\n",
    "with zipfile.ZipFile(zipfilename, 'r') as zip_ref:\n",
    "    zip_ref.extractall(path)"
   ]
  },
  {
   "cell_type": "markdown",
   "id": "737afb09",
   "metadata": {},
   "source": [
    "#### 사용할 샘플 정의"
   ]
  },
  {
   "cell_type": "code",
   "execution_count": 9,
   "id": "f63b1e8d",
   "metadata": {},
   "outputs": [],
   "source": [
    "num_samples = 80000"
   ]
  },
  {
   "cell_type": "markdown",
   "id": "950c14d9",
   "metadata": {},
   "source": [
    "#### 전처리 함수 정의"
   ]
  },
  {
   "cell_type": "code",
   "execution_count": 10,
   "id": "e99fdc96",
   "metadata": {},
   "outputs": [],
   "source": [
    "def to_ascii(s):\n",
    "    # 프랑스어 악센트(accent) 삭제\n",
    "    # 예시 : 'déjà diné' -> deja dine\n",
    "    return ''.join(c for c in unicodedata.normalize('NFD', s)\n",
    "                   if unicodedata.category(c) != 'Mn')"
   ]
  },
  {
   "cell_type": "code",
   "execution_count": 11,
   "id": "7f0392f1",
   "metadata": {},
   "outputs": [],
   "source": [
    "def preprocess_sentence(sent):\n",
    "    # 악센트 제거 함수 호출\n",
    "    sent = to_ascii(sent.lower())\n",
    "\n",
    "    # 단어와 구두점 사이에 공백 추가.\n",
    "    # ex) \"I am a student.\" => \"I am a student .\"\n",
    "    sent = re.sub(r\"([?.!,¿])\", r\" \\1\", sent)\n",
    "\n",
    "    # (a-z, A-Z, \".\", \"?\", \"!\", \",\") 이들을 제외하고는 전부 공백으로 변환.\n",
    "    sent = re.sub(r\"[^a-zA-Z!.?]+\", r\" \", sent)\n",
    "\n",
    "    # 다수 개의 공백을 하나의 공백으로 치환\n",
    "    sent = re.sub(r\"\\s+\", \" \", sent)\n",
    "    return sent"
   ]
  },
  {
   "cell_type": "markdown",
   "id": "3ef802c5",
   "metadata": {},
   "source": [
    "#### 전처리 테스트"
   ]
  },
  {
   "cell_type": "code",
   "execution_count": 12,
   "id": "30051858",
   "metadata": {},
   "outputs": [
    {
     "name": "stdout",
     "output_type": "stream",
     "text": [
      "전처리 전 영어 문장 : Have you had dinner?\n",
      "전처리 후 영어 문장 : have you had dinner ?\n",
      "전처리 전 프랑스어 문장 : Avez-vous déjà diné?\n",
      "전처리 후 프랑스어 문장 : avez vous deja dine ?\n"
     ]
    }
   ],
   "source": [
    "en_sent = u\"Have you had dinner?\"\n",
    "fr_sent = u\"Avez-vous déjà diné?\"\n",
    "\n",
    "print('전처리 전 영어 문장 :', en_sent)\n",
    "print('전처리 후 영어 문장 :',preprocess_sentence(en_sent))\n",
    "print('전처리 전 프랑스어 문장 :', fr_sent)\n",
    "print('전처리 후 프랑스어 문장 :', preprocess_sentence(fr_sent))"
   ]
  },
  {
   "cell_type": "markdown",
   "id": "37d5d3f7",
   "metadata": {},
   "source": [
    "#### 입력 시퀸스, 종료 시퀸스에 토큰 추가"
   ]
  },
  {
   "cell_type": "code",
   "execution_count": 13,
   "id": "6cdbd07a",
   "metadata": {},
   "outputs": [],
   "source": [
    "def load_preprocessed_data():\n",
    "    encoder_input, decoder_input, decoder_target = [], [], []\n",
    "\n",
    "    with open(path+\"/fra.txt\", \"r\",encoding='utf-8') as lines:\n",
    "        for i, line in enumerate(lines):\n",
    "            # source 데이터와 target 데이터 분리\n",
    "            src_line, tar_line, _ = line.strip().split('\\t')\n",
    "\n",
    "            # source 데이터 전처리\n",
    "            src_line = [w for w in preprocess_sentence(src_line).split()]\n",
    "\n",
    "            # target 데이터 전처리\n",
    "            tar_line = preprocess_sentence(tar_line)\n",
    "            tar_line_in = [w for w in (\"<sos> \" + tar_line).split()]\n",
    "            tar_line_out = [w for w in (tar_line + \" <eos>\").split()]\n",
    "\n",
    "            encoder_input.append(src_line)\n",
    "            decoder_input.append(tar_line_in)\n",
    "            decoder_target.append(tar_line_out)\n",
    "\n",
    "            if i == num_samples - 1:\n",
    "                break\n",
    "\n",
    "    return encoder_input, decoder_input, decoder_target"
   ]
  },
  {
   "cell_type": "markdown",
   "id": "64d51c8a",
   "metadata": {},
   "source": [
    "#### 3개의 데이터셋 인코더의 입력, 디코더의 입력, 디코더의 레이블 상위 5개 샘플만 출력"
   ]
  },
  {
   "cell_type": "code",
   "execution_count": 14,
   "id": "3fb8daae",
   "metadata": {},
   "outputs": [
    {
     "name": "stdout",
     "output_type": "stream",
     "text": [
      "인코더의 입력 : [['go', '.'], ['go', '.'], ['go', '.'], ['hi', '.'], ['hi', '.']]\n",
      "디코더의 입력 : [['<sos>', 'va', '!'], ['<sos>', 'marche', '.'], ['<sos>', 'bouge', '!'], ['<sos>', 'salut', '!'], ['<sos>', 'salut', '.']]\n",
      "디코더의 레이블 : [['va', '!', '<eos>'], ['marche', '.', '<eos>'], ['bouge', '!', '<eos>'], ['salut', '!', '<eos>'], ['salut', '.', '<eos>']]\n"
     ]
    }
   ],
   "source": [
    "sents_en_in, sents_fra_in, sents_fra_out = load_preprocessed_data()\n",
    "print('인코더의 입력 :',sents_en_in[:5])\n",
    "print('디코더의 입력 :',sents_fra_in[:5])\n",
    "print('디코더의 레이블 :',sents_fra_out[:5])"
   ]
  },
  {
   "cell_type": "markdown",
   "id": "5a1267a7",
   "metadata": {},
   "source": [
    "#### 토크나이저를 통해 단어 집합 생성, 정수 인코딩 진행 후 패딩 진행"
   ]
  },
  {
   "cell_type": "code",
   "execution_count": 15,
   "id": "242dcbf6",
   "metadata": {},
   "outputs": [],
   "source": [
    "tokenizer_en = Tokenizer(filters=\"\", lower=False)\n",
    "tokenizer_en.fit_on_texts(sents_en_in)\n",
    "encoder_input = tokenizer_en.texts_to_sequences(sents_en_in)\n",
    "encoder_input = pad_sequences(encoder_input, padding=\"post\")\n",
    "\n",
    "tokenizer_fra = Tokenizer(filters=\"\", lower=False)\n",
    "tokenizer_fra.fit_on_texts(sents_fra_in)\n",
    "tokenizer_fra.fit_on_texts(sents_fra_out)\n",
    "\n",
    "decoder_input = tokenizer_fra.texts_to_sequences(sents_fra_in)\n",
    "decoder_input = pad_sequences(decoder_input, padding=\"post\")\n",
    "\n",
    "decoder_target = tokenizer_fra.texts_to_sequences(sents_fra_out)\n",
    "decoder_target = pad_sequences(decoder_target, padding=\"post\")"
   ]
  },
  {
   "cell_type": "code",
   "execution_count": 16,
   "id": "6596ad0c",
   "metadata": {},
   "outputs": [
    {
     "name": "stdout",
     "output_type": "stream",
     "text": [
      "인코더의 입력의 크기(shape) : (80000, 9)\n",
      "디코더의 입력의 크기(shape) : (80000, 17)\n",
      "디코더의 레이블의 크기(shape) : (80000, 17)\n"
     ]
    }
   ],
   "source": [
    "print('인코더의 입력의 크기(shape) :',encoder_input.shape)\n",
    "print('디코더의 입력의 크기(shape) :',decoder_input.shape)\n",
    "print('디코더의 레이블의 크기(shape) :',decoder_target.shape)"
   ]
  },
  {
   "cell_type": "code",
   "execution_count": 17,
   "id": "ee6ae196",
   "metadata": {},
   "outputs": [
    {
     "name": "stdout",
     "output_type": "stream",
     "text": [
      "영어 단어 집합의 크기 : 7767, 프랑스어 단어 집합의 크기 : 13199\n"
     ]
    }
   ],
   "source": [
    "src_vocab_size = len(tokenizer_en.word_index) + 1\n",
    "tar_vocab_size = len(tokenizer_fra.word_index) + 1\n",
    "print(\"영어 단어 집합의 크기 : {:d}, 프랑스어 단어 집합의 크기 : {:d}\".format(src_vocab_size, tar_vocab_size))"
   ]
  },
  {
   "cell_type": "markdown",
   "id": "5f7e18ec",
   "metadata": {},
   "source": [
    "#### 순서가 섞인 정수 시퀀스 리스트 생성"
   ]
  },
  {
   "cell_type": "code",
   "execution_count": 18,
   "id": "99a265eb",
   "metadata": {},
   "outputs": [],
   "source": [
    "src_to_index = tokenizer_en.word_index\n",
    "index_to_src = tokenizer_en.index_word\n",
    "tar_to_index = tokenizer_fra.word_index\n",
    "index_to_tar = tokenizer_fra.index_word"
   ]
  },
  {
   "cell_type": "code",
   "execution_count": 19,
   "id": "99a4c33d",
   "metadata": {},
   "outputs": [
    {
     "name": "stdout",
     "output_type": "stream",
     "text": [
      "랜덤 시퀀스 : [ 4165 24669 50297 ... 18584 25527 60925]\n"
     ]
    }
   ],
   "source": [
    "indices = np.arange(encoder_input.shape[0])\n",
    "np.random.shuffle(indices)\n",
    "print('랜덤 시퀀스 :',indices)"
   ]
  },
  {
   "cell_type": "code",
   "execution_count": 20,
   "id": "aa851d9c",
   "metadata": {},
   "outputs": [],
   "source": [
    "encoder_input = encoder_input[indices]\n",
    "decoder_input = decoder_input[indices]\n",
    "decoder_target = decoder_target[indices]"
   ]
  },
  {
   "cell_type": "markdown",
   "id": "d94db1c0",
   "metadata": {},
   "source": [
    "#### 훈련 데이터 테스트 데이터 분리"
   ]
  },
  {
   "cell_type": "code",
   "execution_count": 21,
   "id": "4aac119a",
   "metadata": {},
   "outputs": [
    {
     "name": "stdout",
     "output_type": "stream",
     "text": [
      "검증 데이터의 개수 : 8000\n"
     ]
    }
   ],
   "source": [
    "n_of_val = int(num_samples*0.1)\n",
    "print('검증 데이터의 개수 :',n_of_val)"
   ]
  },
  {
   "cell_type": "code",
   "execution_count": 22,
   "id": "007904e9",
   "metadata": {},
   "outputs": [],
   "source": [
    "encoder_input_train = encoder_input[:-n_of_val]\n",
    "decoder_input_train = decoder_input[:-n_of_val]\n",
    "decoder_target_train = decoder_target[:-n_of_val]\n",
    "\n",
    "encoder_input_test = encoder_input[-n_of_val:]\n",
    "decoder_input_test = decoder_input[-n_of_val:]\n",
    "decoder_target_test = decoder_target[-n_of_val:]"
   ]
  },
  {
   "cell_type": "code",
   "execution_count": 23,
   "id": "675006d8",
   "metadata": {},
   "outputs": [
    {
     "name": "stdout",
     "output_type": "stream",
     "text": [
      "훈련 source 데이터의 크기 : (72000, 9)\n",
      "훈련 target 데이터의 크기 : (72000, 17)\n",
      "훈련 target 레이블의 크기 : (72000, 17)\n",
      "테스트 source 데이터의 크기 : (8000, 9)\n",
      "테스트 target 데이터의 크기 : (8000, 17)\n",
      "테스트 target 레이블의 크기 : (8000, 17)\n"
     ]
    }
   ],
   "source": [
    "print('훈련 source 데이터의 크기 :',encoder_input_train.shape)\n",
    "print('훈련 target 데이터의 크기 :',decoder_input_train.shape)\n",
    "print('훈련 target 레이블의 크기 :',decoder_target_train.shape)\n",
    "print('테스트 source 데이터의 크기 :',encoder_input_test.shape)\n",
    "print('테스트 target 데이터의 크기 :',decoder_input_test.shape)\n",
    "print('테스트 target 레이블의 크기 :',decoder_target_test.shape)"
   ]
  },
  {
   "cell_type": "markdown",
   "id": "de613911",
   "metadata": {},
   "source": [
    "### 02. 기계 번역기 만들기"
   ]
  },
  {
   "cell_type": "code",
   "execution_count": 24,
   "id": "2776511e",
   "metadata": {},
   "outputs": [],
   "source": [
    "from tensorflow.keras.layers import Input, LSTM, Embedding, Dense, Masking\n",
    "from tensorflow.keras.models import Model"
   ]
  },
  {
   "cell_type": "markdown",
   "id": "8811e2ab",
   "metadata": {},
   "source": [
    "#### 임베딩 벡터의 차원과 LSTM의 은닉 상태의 크기 정의"
   ]
  },
  {
   "cell_type": "code",
   "execution_count": 25,
   "id": "2d0105f6",
   "metadata": {},
   "outputs": [],
   "source": [
    "embedding_dim = 64\n",
    "hidden_units = 64"
   ]
  },
  {
   "cell_type": "markdown",
   "id": "fc600c7d",
   "metadata": {},
   "source": [
    "#### 인코더 설계"
   ]
  },
  {
   "cell_type": "code",
   "execution_count": 26,
   "id": "79b75985",
   "metadata": {},
   "outputs": [],
   "source": [
    "encoder_inputs = Input(shape=(None,))\n",
    "enc_emb = Embedding(src_vocab_size, embedding_dim)(encoder_inputs) # 임베딩 층\n",
    "enc_masking = Masking(mask_value=0.0)(enc_emb) # 패딩 0은 연산에서 제외\n",
    "encoder_lstm = LSTM(hidden_units, return_state=True) # 상태값 리턴을 위해 return_state는 True\n",
    "encoder_outputs, state_h, state_c = encoder_lstm(enc_masking) # 은닉 상태와 셀 상태를 리턴\n",
    "encoder_states = [state_h, state_c] # 인코더의 은닉 상태와 셀 상태를 저장"
   ]
  },
  {
   "cell_type": "markdown",
   "id": "75c35a62",
   "metadata": {},
   "source": [
    "#### 디코더 설계"
   ]
  },
  {
   "cell_type": "code",
   "execution_count": 27,
   "id": "6bbff0de",
   "metadata": {},
   "outputs": [],
   "source": [
    "decoder_inputs = Input(shape=(None,))\n",
    "dec_emb_layer = Embedding(tar_vocab_size, hidden_units) # 임베딩 층\n",
    "dec_emb = dec_emb_layer(decoder_inputs) # 패딩 0은 연산에서 제외\n",
    "dec_masking = Masking(mask_value=0.0)(dec_emb)\n",
    "\n",
    "# 상태값 리턴을 위해 return_state는 True, 모든 시점에 대해서 단어를 예측하기 위해 return_sequences는 True\n",
    "decoder_lstm = LSTM(hidden_units, return_sequences=True, return_state=True) \n",
    "\n",
    "# 인코더의 은닉 상태를 초기 은닉 상태(initial_state)로 사용\n",
    "decoder_outputs, _, _ = decoder_lstm(dec_masking,\n",
    "                                     initial_state=encoder_states)\n",
    "\n",
    "# 모든 시점의 결과에 대해서 소프트맥스 함수를 사용한 출력층을 통해 단어 예측\n",
    "decoder_dense = Dense(tar_vocab_size, activation='softmax')\n",
    "decoder_outputs = decoder_dense(decoder_outputs)"
   ]
  },
  {
   "cell_type": "markdown",
   "id": "eb204058",
   "metadata": {},
   "source": [
    "#### 모델의 입력과 출력 정의"
   ]
  },
  {
   "cell_type": "code",
   "execution_count": 28,
   "id": "dc58cae2",
   "metadata": {},
   "outputs": [],
   "source": [
    "model = Model([encoder_inputs, decoder_inputs], decoder_outputs)\n",
    "model.compile(optimizer='adam', loss='sparse_categorical_crossentropy', metrics=['acc'])"
   ]
  },
  {
   "cell_type": "markdown",
   "id": "c6aaf2ae",
   "metadata": {},
   "source": [
    "#### 모델 훈련"
   ]
  },
  {
   "cell_type": "code",
   "execution_count": null,
   "id": "1c07a349",
   "metadata": {},
   "outputs": [
    {
     "name": "stdout",
     "output_type": "stream",
     "text": [
      "Epoch 1/50\n",
      "563/563 [==============================] - 270s 458ms/step - loss: 2.7886 - acc: 0.6263 - val_loss: 1.9188 - val_acc: 0.7069\n",
      "Epoch 2/50\n",
      "563/563 [==============================] - 263s 467ms/step - loss: 1.7740 - acc: 0.7226 - val_loss: 1.6647 - val_acc: 0.7312\n",
      "Epoch 3/50\n",
      "563/563 [==============================] - 259s 460ms/step - loss: 1.5790 - acc: 0.7426 - val_loss: 1.4943 - val_acc: 0.7648\n",
      "Epoch 4/50\n",
      "563/563 [==============================] - 253s 449ms/step - loss: 1.4076 - acc: 0.7709 - val_loss: 1.3562 - val_acc: 0.7795\n",
      "Epoch 5/50\n",
      "563/563 [==============================] - 254s 451ms/step - loss: 1.2800 - acc: 0.7876 - val_loss: 1.2538 - val_acc: 0.7949\n",
      "Epoch 6/50\n",
      "563/563 [==============================] - 253s 449ms/step - loss: 1.1788 - acc: 0.8010 - val_loss: 1.1786 - val_acc: 0.8043\n",
      "Epoch 7/50\n",
      "563/563 [==============================] - 254s 451ms/step - loss: 1.0971 - acc: 0.8108 - val_loss: 1.1157 - val_acc: 0.8113\n",
      "Epoch 8/50\n",
      "563/563 [==============================] - 252s 448ms/step - loss: 1.0269 - acc: 0.8183 - val_loss: 1.0647 - val_acc: 0.8175\n",
      "Epoch 9/50\n",
      "563/563 [==============================] - 258s 458ms/step - loss: 0.9646 - acc: 0.8251 - val_loss: 1.0174 - val_acc: 0.8230\n",
      "Epoch 10/50\n",
      "563/563 [==============================] - 255s 453ms/step - loss: 0.9076 - acc: 0.8316 - val_loss: 0.9761 - val_acc: 0.8280\n",
      "Epoch 11/50\n",
      "563/563 [==============================] - 255s 454ms/step - loss: 0.8565 - acc: 0.8375 - val_loss: 0.9428 - val_acc: 0.8311\n",
      "Epoch 12/50\n",
      "563/563 [==============================] - 257s 457ms/step - loss: 0.8098 - acc: 0.8429 - val_loss: 0.9114 - val_acc: 0.8348\n",
      "Epoch 13/50\n",
      "563/563 [==============================] - 255s 453ms/step - loss: 0.7672 - acc: 0.8480 - val_loss: 0.8815 - val_acc: 0.8395\n",
      "Epoch 14/50\n",
      "563/563 [==============================] - 263s 466ms/step - loss: 0.7276 - acc: 0.8530 - val_loss: 0.8592 - val_acc: 0.8424\n",
      "Epoch 15/50\n",
      "563/563 [==============================] - 257s 457ms/step - loss: 0.6918 - acc: 0.8576 - val_loss: 0.8375 - val_acc: 0.8453\n",
      "Epoch 16/50\n",
      "563/563 [==============================] - 282s 500ms/step - loss: 0.6583 - acc: 0.8621 - val_loss: 0.8184 - val_acc: 0.8476\n",
      "Epoch 17/50\n",
      "563/563 [==============================] - 259s 460ms/step - loss: 0.6276 - acc: 0.8665 - val_loss: 0.8029 - val_acc: 0.8500\n",
      "Epoch 18/50\n",
      "563/563 [==============================] - 266s 473ms/step - loss: 0.5992 - acc: 0.8705 - val_loss: 0.7874 - val_acc: 0.8521\n",
      "Epoch 19/50\n",
      "122/563 [=====>........................] - ETA: 3:31 - loss: 0.5717 - acc: 0.8754"
     ]
    }
   ],
   "source": [
    "translator_seq2seq = model.fit(x=[encoder_input_train, decoder_input_train], y=decoder_target_train,\n",
    "                       validation_data=([encoder_input_test, decoder_input_test], decoder_target_test),\n",
    "                       batch_size=128, epochs=50)"
   ]
  },
  {
   "cell_type": "code",
   "execution_count": null,
   "id": "81ab10ba",
   "metadata": {},
   "outputs": [],
   "source": []
  }
 ],
 "metadata": {
  "kernelspec": {
   "display_name": "Python 3 (ipykernel)",
   "language": "python",
   "name": "python3"
  },
  "language_info": {
   "codemirror_mode": {
    "name": "ipython",
    "version": 3
   },
   "file_extension": ".py",
   "mimetype": "text/x-python",
   "name": "python",
   "nbconvert_exporter": "python",
   "pygments_lexer": "ipython3",
   "version": "3.7.13"
  }
 },
 "nbformat": 4,
 "nbformat_minor": 5
}
