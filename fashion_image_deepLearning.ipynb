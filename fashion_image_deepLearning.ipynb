{
 "cells": [
  {
   "cell_type": "code",
   "execution_count": 1,
   "metadata": {},
   "outputs": [],
   "source": [
    "import os.path\n",
    "import cv2\n",
    "import numpy as np\n",
    "import pandas as pd\n",
    "import matplotlib.pyplot as plt\n",
    "import tensorflow as tf\n",
    "import seaborn as sns\n",
    "\n",
    "from glob import glob\n",
    "from pathlib import Path\n",
    "from tqdm import tqdm\n",
    "from time import perf_counter\n",
    "\n",
    "from sklearn.model_selection import train_test_split\n",
    "from sklearn.metrics import classification_report,accuracy_score\n",
    "from tensorflow.keras.preprocessing.text import text_to_word_sequence\n",
    "from sklearn.preprocessing import LabelEncoder"
   ]
  },
  {
   "cell_type": "code",
   "execution_count": 2,
   "metadata": {},
   "outputs": [
    {
     "name": "stdout",
     "output_type": "stream",
     "text": [
      "C:\\Users\\hi\\Desktop\\DeepLearning\n"
     ]
    }
   ],
   "source": [
    "print(os.getcwd()) "
   ]
  },
  {
   "cell_type": "code",
   "execution_count": 3,
   "metadata": {},
   "outputs": [
    {
     "name": "stdout",
     "output_type": "stream",
     "text": [
      "C:\\Users\\hi\\Desktop\\DeepLearning\\img-fashion\n"
     ]
    }
   ],
   "source": [
    "base_dir = os.chdir(os.getcwd() + \"/img-fashion\")\n",
    "print(os.getcwd())"
   ]
  },
  {
   "cell_type": "code",
   "execution_count": 4,
   "metadata": {},
   "outputs": [
    {
     "name": "stdout",
     "output_type": "stream",
     "text": [
      "파일 개수 >>  7652\n",
      "파일 목록 타입 >>  <class 'list'>\n"
     ]
    }
   ],
   "source": [
    "data_list = glob('*.jpg')\n",
    "print('파일 개수 >> ', len(data_list))\n",
    "print('파일 목록 타입 >> ', type(data_list))"
   ]
  },
  {
   "cell_type": "code",
   "execution_count": 5,
   "metadata": {},
   "outputs": [
    {
     "name": "stdout",
     "output_type": "stream",
     "text": [
      "['blouse', '1', 'jpg']\n"
     ]
    }
   ],
   "source": [
    "token = text_to_word_sequence(data_list[0])\n",
    "print(token)"
   ]
  },
  {
   "cell_type": "code",
   "execution_count": 6,
   "metadata": {},
   "outputs": [
    {
     "name": "stdout",
     "output_type": "stream",
     "text": [
      "7652\n"
     ]
    }
   ],
   "source": [
    "label = []\n",
    "for x in data_list:\n",
    "    token = text_to_word_sequence(x)\n",
    "    label.append(token[0])\n",
    "print(len(label))"
   ]
  },
  {
   "cell_type": "code",
   "execution_count": 7,
   "metadata": {},
   "outputs": [
    {
     "data": {
      "text/plain": [
       "array([0, 0, 0, ..., 7, 7, 7], dtype=int64)"
      ]
     },
     "execution_count": 7,
     "metadata": {},
     "output_type": "execute_result"
    }
   ],
   "source": [
    "items = label\n",
    "encoder = LabelEncoder()\n",
    "label = encoder.fit_transform(items)\n",
    "label"
   ]
  },
  {
   "cell_type": "code",
   "execution_count": 8,
   "metadata": {},
   "outputs": [],
   "source": [
    "data_height = 150\n",
    "data_width = 150\n",
    "channel_n = 3"
   ]
  },
  {
   "cell_type": "code",
   "execution_count": 9,
   "metadata": {},
   "outputs": [],
   "source": [
    "def make_file(dat_height, data_width, channel_n, data_list_len):\n",
    "    label = []\n",
    "    images = np.zeros((data_list_len, dat_height, data_width, channel_n))\n",
    "    \n",
    "    for i, image in enumerate(data_list):\n",
    "        \n",
    "        token = text_to_word_sequence(image)\n",
    "        label.append(token[0])\n",
    "        \n",
    "        image = cv2.imread(image)\n",
    "        image = cv2.resize(image, (dat_height, data_width)) / 255\n",
    "        \n",
    "        images[i, :, :, :] = image\n",
    "    label = np.array(label)\n",
    "    return (label, images)    "
   ]
  },
  {
   "cell_type": "code",
   "execution_count": 10,
   "metadata": {},
   "outputs": [],
   "source": [
    "label, images = make_file(data_height, data_width, channel_n, len(data_list))"
   ]
  },
  {
   "cell_type": "code",
   "execution_count": 11,
   "metadata": {},
   "outputs": [
    {
     "data": {
      "text/plain": [
       "(array([0, 0, 0, ..., 7, 7, 7], dtype=int64), 7652)"
      ]
     },
     "execution_count": 11,
     "metadata": {},
     "output_type": "execute_result"
    }
   ],
   "source": [
    "items = label\n",
    "encoder = LabelEncoder()\n",
    "label = encoder.fit_transform(items)\n",
    "label, len(label) "
   ]
  },
  {
   "cell_type": "code",
   "execution_count": 12,
   "metadata": {},
   "outputs": [
    {
     "name": "stdout",
     "output_type": "stream",
     "text": [
      "(6886, 150, 150, 3) (766, 150, 150, 3)\n"
     ]
    }
   ],
   "source": [
    "x = images\n",
    "y = label\n",
    "\n",
    "X_train, X_test, y_train, y_test = train_test_split(x, \n",
    "                                                    y, \n",
    "                                                    test_size= 0.1,\n",
    "                                                    random_state=30\n",
    "                                                   )\n",
    "print(X_train.shape, X_test.shape)"
   ]
  },
  {
   "cell_type": "code",
   "execution_count": 13,
   "metadata": {},
   "outputs": [],
   "source": [
    "from tensorflow.keras.layers import *\n",
    "from tensorflow.keras.callbacks import EarlyStopping, ModelCheckpoint\n",
    "from tensorflow.keras.models import Sequential"
   ]
  },
  {
   "cell_type": "code",
   "execution_count": 14,
   "metadata": {
    "scrolled": true
   },
   "outputs": [
    {
     "name": "stdout",
     "output_type": "stream",
     "text": [
      "Model: \"sequential\"\n",
      "_________________________________________________________________\n",
      " Layer (type)                Output Shape              Param #   \n",
      "=================================================================\n",
      " conv2d (Conv2D)             (None, 148, 148, 32)      896       \n",
      "                                                                 \n",
      " max_pooling2d (MaxPooling2D  (None, 74, 74, 32)       0         \n",
      " )                                                               \n",
      "                                                                 \n",
      " conv2d_1 (Conv2D)           (None, 72, 72, 32)        9248      \n",
      "                                                                 \n",
      " max_pooling2d_1 (MaxPooling  (None, 36, 36, 32)       0         \n",
      " 2D)                                                             \n",
      "                                                                 \n",
      " flatten (Flatten)           (None, 41472)             0         \n",
      "                                                                 \n",
      " dense (Dense)               (None, 128)               5308544   \n",
      "                                                                 \n",
      " dense_1 (Dense)             (None, 8)                 1032      \n",
      "                                                                 \n",
      "=================================================================\n",
      "Total params: 5,319,720\n",
      "Trainable params: 5,319,720\n",
      "Non-trainable params: 0\n",
      "_________________________________________________________________\n"
     ]
    }
   ],
   "source": [
    "# Initialising the CNN\n",
    "cnn = Sequential()\n",
    "\n",
    "# Step 1 - Convolution\n",
    "cnn.add(tf.keras.layers.Conv2D(filters=32, kernel_size=3, activation='relu', input_shape=[150, 150, 3]))\n",
    "\n",
    "# Step 2 - Pooling\n",
    "cnn.add(tf.keras.layers.MaxPool2D(pool_size=2, strides=2))\n",
    "\n",
    "# Adding convolutional layer\n",
    "cnn.add(tf.keras.layers.Conv2D(filters=32, kernel_size=3, activation='relu'))\n",
    "cnn.add(tf.keras.layers.MaxPool2D(pool_size=2, strides=2))\n",
    "\n",
    "# Step 3 - Flattening\n",
    "cnn.add(tf.keras.layers.Flatten())\n",
    "\n",
    "# Step 4 - Full Connection\n",
    "cnn.add(tf.keras.layers.Dense(units=128, activation='relu'))\n",
    "\n",
    "# Step 5 - Output Layer\n",
    "cnn.add(tf.keras.layers.Dense(units=8, activation='softmax'))\n",
    "\n",
    "# Compiling the CNN\n",
    "cnn.compile(optimizer = 'adam', \n",
    "            loss = 'sparse_categorical_crossentropy', \n",
    "            metrics = ['accuracy'])\n",
    "cnn.summary()"
   ]
  },
  {
   "cell_type": "code",
   "execution_count": 15,
   "metadata": {},
   "outputs": [],
   "source": [
    "es = EarlyStopping(monitor='val_loss', patience=5, restore_best_weights=True)\n",
    "cp = ModelCheckpoint('fashion_cnn_1.h5')"
   ]
  },
  {
   "cell_type": "code",
   "execution_count": 16,
   "metadata": {},
   "outputs": [
    {
     "data": {
      "text/plain": [
       "keras.engine.sequential.Sequential"
      ]
     },
     "execution_count": 16,
     "metadata": {},
     "output_type": "execute_result"
    }
   ],
   "source": [
    "type(cnn)"
   ]
  },
  {
   "cell_type": "code",
   "execution_count": 17,
   "metadata": {},
   "outputs": [
    {
     "name": "stdout",
     "output_type": "stream",
     "text": [
      "Epoch 1/15\n",
      "216/216 - 54s - loss: 1.5022 - accuracy: 0.4776 - val_loss: 1.3737 - val_accuracy: 0.5522 - 54s/epoch - 248ms/step\n",
      "Epoch 2/15\n",
      "216/216 - 55s - loss: 1.0671 - accuracy: 0.6417 - val_loss: 1.1711 - val_accuracy: 0.6084 - 55s/epoch - 254ms/step\n",
      "Epoch 3/15\n",
      "216/216 - 51s - loss: 0.8223 - accuracy: 0.7194 - val_loss: 1.2112 - val_accuracy: 0.5992 - 51s/epoch - 236ms/step\n",
      "Epoch 4/15\n",
      "216/216 - 50s - loss: 0.5670 - accuracy: 0.8082 - val_loss: 1.2439 - val_accuracy: 0.6201 - 50s/epoch - 232ms/step\n",
      "Epoch 5/15\n",
      "216/216 - 53s - loss: 0.3825 - accuracy: 0.8745 - val_loss: 1.3644 - val_accuracy: 0.6188 - 53s/epoch - 243ms/step\n",
      "Epoch 6/15\n",
      "216/216 - 54s - loss: 0.2837 - accuracy: 0.9010 - val_loss: 1.6375 - val_accuracy: 0.6266 - 54s/epoch - 251ms/step\n",
      "Epoch 7/15\n",
      "216/216 - 52s - loss: 0.2152 - accuracy: 0.9290 - val_loss: 1.8881 - val_accuracy: 0.6371 - 52s/epoch - 239ms/step\n"
     ]
    }
   ],
   "source": [
    "cnn_history = cnn.fit( X_train, \n",
    "                       y_train,                \n",
    "                       batch_size=32,\n",
    "                       epochs=15,\n",
    "                       validation_data = (X_test, y_test),\n",
    "                       callbacks = [es, cp],\n",
    "                       verbose=2\n",
    "                       )"
   ]
  },
  {
   "cell_type": "code",
   "execution_count": 18,
   "metadata": {},
   "outputs": [
    {
     "name": "stdout",
     "output_type": "stream",
     "text": [
      "24/24 [==============================] - ETA: 1s - loss: 1.2225 - accuracy: 0.59 - ETA: 1s - loss: 1.2503 - accuracy: 0.56 - ETA: 1s - loss: 1.1585 - accuracy: 0.59 - ETA: 1s - loss: 1.0812 - accuracy: 0.60 - ETA: 1s - loss: 1.0790 - accuracy: 0.61 - ETA: 1s - loss: 1.0777 - accuracy: 0.62 - ETA: 1s - loss: 1.0632 - accuracy: 0.62 - ETA: 1s - loss: 1.0818 - accuracy: 0.62 - ETA: 0s - loss: 1.0823 - accuracy: 0.62 - ETA: 0s - loss: 1.1443 - accuracy: 0.62 - ETA: 0s - loss: 1.1632 - accuracy: 0.61 - ETA: 0s - loss: 1.1639 - accuracy: 0.61 - ETA: 0s - loss: 1.1651 - accuracy: 0.61 - ETA: 0s - loss: 1.1591 - accuracy: 0.62 - ETA: 0s - loss: 1.1950 - accuracy: 0.60 - ETA: 0s - loss: 1.1884 - accuracy: 0.60 - ETA: 0s - loss: 1.1934 - accuracy: 0.60 - ETA: 0s - loss: 1.2070 - accuracy: 0.60 - ETA: 0s - loss: 1.1819 - accuracy: 0.61 - ETA: 0s - loss: 1.1819 - accuracy: 0.60 - ETA: 0s - loss: 1.1587 - accuracy: 0.61 - ETA: 0s - loss: 1.1559 - accuracy: 0.61 - ETA: 0s - loss: 1.1663 - accuracy: 0.61 - ETA: 0s - loss: 1.1711 - accuracy: 0.60 - 2s 68ms/step - loss: 1.1711 - accuracy: 0.6084\n"
     ]
    },
    {
     "data": {
      "text/plain": [
       "[1.1711231470108032, 0.6083551049232483]"
      ]
     },
     "execution_count": 18,
     "metadata": {},
     "output_type": "execute_result"
    }
   ],
   "source": [
    "test_result = cnn.evaluate(X_test, y_test)\n",
    "test_result"
   ]
  },
  {
   "cell_type": "code",
   "execution_count": 23,
   "metadata": {},
   "outputs": [
    {
     "name": "stdout",
     "output_type": "stream",
     "text": [
      "test acc:  60.84\n"
     ]
    }
   ],
   "source": [
    "print('test acc: ', round(test_result[1]*100, 2))"
   ]
  },
  {
   "cell_type": "code",
   "execution_count": 24,
   "metadata": {},
   "outputs": [
    {
     "data": {
      "text/plain": [
       "<matplotlib.legend.Legend at 0x21935b8d978>"
      ]
     },
     "execution_count": 24,
     "metadata": {},
     "output_type": "execute_result"
    },
    {
     "data": {
      "image/png": "[encoded data removed]",
      "text/plain": [
       "<Figure size 864x288 with 2 Axes>"
      ]
     },
     "metadata": {
      "needs_background": "light"
     },
     "output_type": "display_data"
    }
   ],
   "source": [
    "plt.figure(figsize=(12, 4))\n",
    "\n",
    "plt.subplot(1, 2, 1) ## 1행2열의 도표, 1열\n",
    "plt.plot(cnn_history.history['accuracy'])\n",
    "plt.plot(cnn_history.history['val_accuracy'])\n",
    "plt.title('model acc')\n",
    "plt.xlabel('epoch')\n",
    "plt.ylabel('acc')\n",
    "plt.legend(['train_acc','test_acc'])\n",
    "\n",
    "plt.subplot(1, 2, 2) ## 1행2열의 도표, 2열\n",
    "plt.plot(cnn_history.history['loss'])\n",
    "plt.plot(cnn_history.history['val_loss'])\n",
    "plt.title('model loss')\n",
    "plt.xlabel('epoch')\n",
    "plt.ylabel('loss')\n",
    "plt.legend(['train_loss','test_loss'])"
   ]
  }
 ],
 "metadata": {
  "kernelspec": {
   "display_name": "Python 3",
   "language": "python",
   "name": "python3"
  },
  "language_info": {
   "codemirror_mode": {
    "name": "ipython",
    "version": 3
   },
   "file_extension": ".py",
   "mimetype": "text/x-python",
   "name": "python",
   "nbconvert_exporter": "python",
   "pygments_lexer": "ipython3",
   "version": "3.7.0"
  }
 },
 "nbformat": 4,
 "nbformat_minor": 2
}
